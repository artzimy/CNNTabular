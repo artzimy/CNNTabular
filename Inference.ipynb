{
 "cells": [
  {
   "cell_type": "markdown",
   "metadata": {},
   "source": [
    "# Test Prediction"
   ]
  },
  {
   "cell_type": "code",
   "execution_count": null,
   "metadata": {},
   "outputs": [],
   "source": [
    "import pandas as pd\n",
    "import matplotlib.pyplot as plt\n",
    "from sklearn.metrics import classification_report\n",
    "from collections import Counter\n",
    "\n",
    "from Macros import *\n",
    "from TabConvData import *"
   ]
  },
  {
   "cell_type": "markdown",
   "metadata": {},
   "source": [
    "**Interface**\n",
    "\n",
    "Predict on test set, print accuracy (majority vote iff majority_of_votes is True).\n",
    "\n",
    "Retrieve true and predicted labels for metrics calculation"
   ]
  },
  {
   "cell_type": "code",
   "execution_count": null,
   "metadata": {},
   "outputs": [],
   "source": [
    "def predict_test(path, csv_name, learner, majority_of_votes, show_preds=True):\n",
    "    test_data_list = create_set(path, csv_name)\n",
    "    test_data, test_labels = test_data_list.train.x, test_data_list.train.y\n",
    "    classes = ['Controls', 'Ependymoma', 'Medulloblastoma', 'PilocyticAstrocytoma']\n",
    "    \n",
    "    if (majority_of_votes):\n",
    "        true_labels = compress_labels(test_data, test_labels, classes)\n",
    "        predictions = predict_set_mov(test_data, learner, classes)\n",
    "        predicted_labels = [elem[0] for elem in predictions]\n",
    "    else:\n",
    "        true_labels = [classes[int(label)] for label in test_labels]\n",
    "        predicted_labels = predict_set(test_data, learner, classes)\n",
    "        \n",
    "    if show_preds:\n",
    "        if (majority_of_votes):\n",
    "            print(predictions)\n",
    "        else:\n",
    "            print(predicted_labels)\n",
    "\n",
    "    acc = calc_accuracy(predicted_labels, true_labels)\n",
    "    print(\"Test Accuracy = \"+str(acc))\n",
    "    return true_labels, predicted_labels"
   ]
  },
  {
   "cell_type": "markdown",
   "metadata": {},
   "source": [
    "**Prediction Functions**"
   ]
  },
  {
   "cell_type": "code",
   "execution_count": null,
   "metadata": {},
   "outputs": [],
   "source": [
    "def predict(item, learner, classes):\n",
    "    cont = item.data[1].unsqueeze(dim=0).cuda()\n",
    "    img = item.data[2].unsqueeze(dim=0).cuda()\n",
    "    probs = learner.model(cont, img)[0]\n",
    "    max_val, max_ind = probs.max(0)\n",
    "    return classes[max_ind]\n",
    "    \n",
    "def predict_patient(patient_list, learner, classes):\n",
    "    n = len(patient_list)\n",
    "    preds = []\n",
    "    for i in range(n):\n",
    "        item = patient_list[i]\n",
    "        preds.append(predict(item, learner, classes))\n",
    "    pred, score = majority(preds)\n",
    "    return pred, score/n\n",
    "\n",
    "def predict_set(items, learner, classes):\n",
    "    preds = [predict(item, learner, classes) for item in items]\n",
    "    return preds\n",
    "\n",
    "def predict_set_mov(items, learner, classes):\n",
    "    i = 0\n",
    "    n = len(items)\n",
    "    patients = []\n",
    "    while (i < n):\n",
    "        patient = []\n",
    "        pid = items[i].pid\n",
    "        while (i < n):\n",
    "            patient_item = items[i] \n",
    "            cur_pid = patient_item.pid\n",
    "            if (cur_pid != pid): break\n",
    "            patient.append(patient_item)\n",
    "            i += 1\n",
    "        patients.append(patient)\n",
    "        \n",
    "    preds = []\n",
    "    for patient in patients:\n",
    "        preds.append(predict_patient(patient, learner, classes))\n",
    "        \n",
    "    return preds  "
   ]
  },
  {
   "cell_type": "markdown",
   "metadata": {},
   "source": [
    "**Auxiliary Functions**"
   ]
  },
  {
   "cell_type": "code",
   "execution_count": null,
   "metadata": {},
   "outputs": [],
   "source": [
    "def create_set(path, csv_name):\n",
    "    df = pd.read_csv(path + '/' + csv_name)\n",
    "    df[PATIENT] = df[ID].apply(lambda image_name: image_name.split('_')[1])\n",
    "    df[ORIG_AGE] = df[AGE]\n",
    "    if CLASS in df.columns:\n",
    "        data_list = (TabConvList.from_df(df, cont_names=cont_names, procs=[Normalize],\n",
    "                     path=path, imgs=[ID],suffix='.png')\n",
    "                     .split_none().label_from_df(cols=CLASS, label_cls=CategoryList)\n",
    "                     .transform(size=256, resize_method=ResizeMethod.SQUISH, padding_mode='zeros'))\n",
    "    else:\n",
    "        data_list = (TabConvList.from_df(df, cont_names=cont_names, procs=[Normalize],\n",
    "                     path=path, imgs=[ID],suffix='.png')\n",
    "                     .transform(size=256, resize_method=ResizeMethod.SQUISH, padding_mode='zeros'))\n",
    "\n",
    "    return data_list\n",
    "\n",
    "def compress_labels(data, labels, classes):\n",
    "    i = 0\n",
    "    n = len(data)\n",
    "    labels_by_patient = []\n",
    "    pid = ''\n",
    "    for i in range(n):\n",
    "        cur_pid = data[i].pid\n",
    "        if cur_pid != pid:\n",
    "            labels_by_patient.append(classes[int(labels[i])])\n",
    "            pid = cur_pid\n",
    "    \n",
    "    return labels_by_patient"
   ]
  },
  {
   "cell_type": "markdown",
   "metadata": {},
   "source": [
    "**Results**"
   ]
  },
  {
   "cell_type": "code",
   "execution_count": null,
   "metadata": {},
   "outputs": [],
   "source": [
    "def majority(lst):\n",
    "    c = Counter(lst)\n",
    "    max_key = max(c, key=c.get)\n",
    "    max_value = c[max_key]\n",
    "    return max_key, max_value\n",
    "\n",
    "def calc_accuracy(predicted_labels, true_labels):\n",
    "    n = len(predicted_labels)\n",
    "    correct_labels = 0\n",
    "    for i in range(n):\n",
    "        if predicted_labels[i] == true_labels[i]:\n",
    "            correct_labels += 1\n",
    "    accuracy = correct_labels / n\n",
    "    return accuracy\n",
    "\n",
    "# TODO: print predictions next to true labels\n",
    "def show_predictions(predictions, true_labels):\n",
    "    n = len(true_labels)\n",
    "    print(\"*True Label*        *Predicted Label*          *Confidence Level*\")\n",
    "    for i in range(n):\n",
    "        print(true_labels[i] +\"         \"+ predictions[i][0] +\"         \"+ str(predictions[i][1]))\n"
   ]
  },
  {
   "cell_type": "markdown",
   "metadata": {},
   "source": [
    "# Test Explainability"
   ]
  },
  {
   "cell_type": "markdown",
   "metadata": {},
   "source": [
    "**Interface**\n",
    "\n",
    "Given a TabConv learner, load test data and predict on its items.\n",
    "\n",
    "Show predictions of combined items (MRI image and patient age) in test[from_idx,to_idx] - \n",
    "provide appropriate range consist up to 25 consecutive items."
   ]
  },
  {
   "cell_type": "code",
   "execution_count": null,
   "metadata": {},
   "outputs": [],
   "source": [
    "def show_test_results(path, csv, learner, from_idx=0, to_idx=24):\n",
    "    classes = ['Controls', 'Ependymoma', 'Medulloblastoma', 'PilocyticAstrocytoma']\n",
    "\n",
    "    test_data_list = create_set(path, csv)    \n",
    "    test_data, test_labels = test_data_list.train.x, test_data_list.train.y\n",
    "    \n",
    "    n = len(test_data)\n",
    "    check_indexes_validity(n, from_idx, to_idx)\n",
    "\n",
    "    predicted_labels = predict_set(test_data, learner, classes)\n",
    "    show_test_xyzs(test_data, test_labels, predicted_labels, from_idx, to_idx)"
   ]
  },
  {
   "cell_type": "markdown",
   "metadata": {},
   "source": [
    "**Auxiliary Functions**"
   ]
  },
  {
   "cell_type": "code",
   "execution_count": 1,
   "metadata": {},
   "outputs": [],
   "source": [
    "def check_indexes_validity(n, from_idx, to_idx):\n",
    "    assert (from_idx <= to_idx and to_idx - from_idx + 1 <= 25 and\n",
    "        from_idx >= 0 and to_idx >= 0 and from_idx <= n-1 and to_idx <= n-1), \"Unvalid indexes\"\n",
    "    \n",
    "def show_result(axs, img, age, actual, prediction, fontsize):\n",
    "    axs.imshow(img.permute(1,2,0))\n",
    "    axs.set_title(''.join([str(actual), ' ; ', str(age), '\\n', prediction]), fontsize=fontsize)\n",
    "    \n",
    "def show_test_xyzs(xs, ys, zs, from_idx, to_idx, figsize:(int,int)=(90,100), **kwargs):\n",
    "    \"Show the `xs` and `ys` and 'zs' (predictions) on a figure of `figsize`. `kwargs` are passed to the show method.\"\n",
    "    num_results = to_idx - from_idx + 1\n",
    "    rows = int(np.ceil(math.sqrt(num_results)))\n",
    "    adj_figsize = (5*rows, 5*rows)\n",
    "\n",
    "    age = [item.orig_age for item in xs]\n",
    "    img = torch.cat([item.img.data.unsqueeze(0) for item in xs], 0)\n",
    "    age = age[from_idx:to_idx+1]\n",
    "    img = img[from_idx:to_idx+1]\n",
    "    \n",
    "    fig, axs = plt.subplots(rows, rows, figsize=adj_figsize, constrained_layout=True)\n",
    "    fig.suptitle(\"Actual ; Age(months)\" + \"\\n\" + \"Prediction\" + \"\\n\", fontsize=adj_figsize[0]+10, weight='bold')\n",
    "    \n",
    "    if rows == 1:\n",
    "        show_result(axs, img[0], age[0], ys[0], zs[0], 15)\n",
    "        axs.axis('off')\n",
    "    else:\n",
    "        axs = axs.flatten()\n",
    "        for i in range(num_results):\n",
    "            show_result(axs[i], img[i], age[i], ys[i], zs[i], adj_figsize[0])\n",
    "        \n",
    "        for i in range(rows*rows):\n",
    "            axs[i].axis('off')"
   ]
  }
 ],
 "metadata": {
  "kernelspec": {
   "display_name": "Python 3",
   "language": "python",
   "name": "python3"
  },
  "language_info": {
   "codemirror_mode": {
    "name": "ipython",
    "version": 3
   },
   "file_extension": ".py",
   "mimetype": "text/x-python",
   "name": "python",
   "nbconvert_exporter": "python",
   "pygments_lexer": "ipython3",
   "version": "3.6.9"
  }
 },
 "nbformat": 4,
 "nbformat_minor": 2
}
