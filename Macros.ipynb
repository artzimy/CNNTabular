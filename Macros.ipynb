{
 "cells": [
  {
   "cell_type": "markdown",
   "metadata": {},
   "source": [
    "**Define macros according to names in excel for readability**"
   ]
  },
  {
   "cell_type": "code",
   "execution_count": null,
   "metadata": {},
   "outputs": [],
   "source": [
    "GENDER = 'Sex'\n",
    "AGE = 'Age'\n",
    "ORIG_AGE = 'OrigAge'\n",
    "CLASS = 'Group'\n",
    "ID = 'ImageName'\n",
    "PATIENT = 'Patient'\n",
    "cat_names = [GENDER]\n",
    "cont_names = [AGE]\n",
    "dep_vars = CLASS"
   ]
  }
 ],
 "metadata": {
  "kernelspec": {
   "display_name": "Python 3",
   "language": "python",
   "name": "python3"
  },
  "language_info": {
   "codemirror_mode": {
    "name": "ipython",
    "version": 3
   },
   "file_extension": ".py",
   "mimetype": "text/x-python",
   "name": "python",
   "nbconvert_exporter": "python",
   "pygments_lexer": "ipython3",
   "version": "3.6.9"
  }
 },
 "nbformat": 4,
 "nbformat_minor": 2
}
