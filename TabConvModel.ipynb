{
 "cells": [
  {
   "cell_type": "code",
   "execution_count": 1,
   "metadata": {},
   "outputs": [],
   "source": [
    "from fastai.vision import *\n",
    "from fastai.tabular import *\n",
    "from fastai.layers import *"
   ]
  },
  {
   "cell_type": "markdown",
   "metadata": {},
   "source": [
    "# Define Model"
   ]
  },
  {
   "cell_type": "markdown",
   "metadata": {},
   "source": [
    "**Build combined model architecture using tabular and image cnn learners**"
   ]
  },
  {
   "cell_type": "code",
   "execution_count": 2,
   "metadata": {},
   "outputs": [],
   "source": [
    "class TabConvModel(nn.Module):\n",
    "    def __init__(self, tab_model, img_model, layers, drops):\n",
    "        super().__init__()\n",
    "        self.tab_model = tab_model #based on fastai_tabular learner\n",
    "        self.img_model = img_model #based on fastai cnn_learner\n",
    "        lst_layers = []\n",
    "\n",
    "        activs = [nn.ReLU(inplace=True),] * (len(layers) - 2) + [None]\n",
    "        for n_in, n_out, p, actn in zip(layers[:-1], layers[1:], drops, activs):\n",
    "            lst_layers += bn_drop_lin(n_in, n_out, p=p, actn=actn)\n",
    "\n",
    "        self.layers = nn.Sequential(*lst_layers)\n",
    "\n",
    "    def forward(self, x_cont, img, x_cat=None):\n",
    "        x_tab = self.tab_model(x_cat, x_cont)\n",
    "        x_img = self.img_model(img)\n",
    "\n",
    "        x = torch.cat([x_tab, x_img], dim=1)\n",
    "        return self.layers(x)"
   ]
  },
  {
   "cell_type": "markdown",
   "metadata": {},
   "source": [
    "**Create combined learner based on TabConvModel**"
   ]
  },
  {
   "cell_type": "code",
   "execution_count": 3,
   "metadata": {},
   "outputs": [],
   "source": [
    "def fuse_models(data, tab_learner, img_learner, n_lin_tab=4, n_lin_conv=4, fused_out_sz=4, \n",
    "                ps=0.25, wd=0.001, metrics=None, callback_fns=None, loss_func=CrossEntropyFlat):\n",
    "    \n",
    "    concat_sz = n_lin_tab + n_lin_conv\n",
    "    lin_layers = [concat_sz, concat_sz, fused_out_sz]\n",
    "    ps_list = [ps, ps]\n",
    "    model = TabConvModel(tab_learner.model, img_learner.model, lin_layers, ps_list)\n",
    "\n",
    "    layer_groups = [nn.Sequential(*flatten_model(img_learner.layer_groups[0])),\n",
    "                    nn.Sequential(*flatten_model(img_learner.layer_groups[1])),\n",
    "                    nn.Sequential(*(flatten_model(img_learner.layer_groups[2]) +\n",
    "                                    flatten_model(model.tab_model) +\n",
    "                                    flatten_model(model.layers)))]\n",
    "\n",
    "    fused_learner = Learner(data, model, layer_groups=layer_groups, loss_func=loss_func, \n",
    "                            metrics=metrics, callback_fns=callback_fns, wd=wd)\n",
    "    return fused_learner"
   ]
  }
 ],
 "metadata": {
  "kernelspec": {
   "display_name": "Python 3",
   "language": "python",
   "name": "python3"
  },
  "language_info": {
   "codemirror_mode": {
    "name": "ipython",
    "version": 3
   },
   "file_extension": ".py",
   "mimetype": "text/x-python",
   "name": "python",
   "nbconvert_exporter": "python",
   "pygments_lexer": "ipython3",
   "version": "3.6.9"
  }
 },
 "nbformat": 4,
 "nbformat_minor": 2
}
