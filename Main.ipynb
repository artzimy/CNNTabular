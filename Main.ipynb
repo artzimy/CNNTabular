{
 "cells": [
  {
   "cell_type": "code",
   "execution_count": null,
   "metadata": {},
   "outputs": [],
   "source": [
    "%reload_ext autoreload\n",
    "%autoreload 2\n",
    "%matplotlib inline"
   ]
  },
  {
   "cell_type": "code",
   "execution_count": null,
   "metadata": {},
   "outputs": [],
   "source": [
    "from Macros import *\n",
    "from TabConvData import *\n",
    "from TabConvModel import *\n",
    "from Inference import *"
   ]
  },
  {
   "cell_type": "code",
   "execution_count": null,
   "metadata": {},
   "outputs": [],
   "source": [
    "cuda_num = '0'\n",
    "torch.cuda.set_device(int(cuda_num))"
   ]
  },
  {
   "cell_type": "markdown",
   "metadata": {},
   "source": [
    "Set batch size according to useable memory and imsize according to model needs"
   ]
  },
  {
   "cell_type": "code",
   "execution_count": null,
   "metadata": {},
   "outputs": [],
   "source": [
    "bs = 32\n",
    "imsize = 256\n",
    "\n",
    "np.random.seed(2)"
   ]
  },
  {
   "cell_type": "markdown",
   "metadata": {},
   "source": [
    "**Load Data**"
   ]
  },
  {
   "cell_type": "code",
   "execution_count": null,
   "metadata": {},
   "outputs": [],
   "source": [
    "path = \"/media/df3-moran/Omri/Pediatric_Data_Set_New_256_noaug/3ch_data/diff train_val/\"\n",
    "df = pd.read_csv(path+'train_val_images_5fold_augment.csv')"
   ]
  },
  {
   "cell_type": "markdown",
   "metadata": {},
   "source": [
    "Define validation fold index (1 to 5) "
   ]
  },
  {
   "cell_type": "code",
   "execution_count": null,
   "metadata": {},
   "outputs": [],
   "source": [
    "valid_idx = 'fold_3'"
   ]
  },
  {
   "cell_type": "code",
   "execution_count": null,
   "metadata": {},
   "outputs": [],
   "source": [
    "df_data = set_df(df, valid_idx)"
   ]
  },
  {
   "cell_type": "code",
   "execution_count": null,
   "metadata": {},
   "outputs": [],
   "source": [
    "tfms = get_transforms(do_flip=False, max_rotate=5, max_zoom=1.05)\n",
    "\n",
    "procs = [Normalize]"
   ]
  },
  {
   "cell_type": "markdown",
   "metadata": {},
   "source": [
    "Prepare image, tabular and combined data bunches.\n",
    "split to train and validation sets according to given column"
   ]
  },
  {
   "cell_type": "code",
   "execution_count": null,
   "metadata": {},
   "outputs": [],
   "source": [
    "img_data = (ImageList.from_df(df_data, path, suffix='.png')\n",
    "            .split_from_df(col=[valid_idx])\n",
    "            .label_from_df()\n",
    "            .transform(tfms, size=imsize, resize_method=ResizeMethod.SQUISH,padding_mode='zeros')\n",
    "            .databunch(device=torch.device('cuda:'+cuda_num), bs=bs))\n",
    "\n",
    "tab_data = (TabularList.from_df(df_data, cont_names=cont_names, procs=procs)\n",
    "            .split_from_df(col=[valid_idx])\n",
    "            .label_from_df(cols=CLASS)\n",
    "            .databunch(device=torch.device('cuda:'+cuda_num), bs=bs))\n",
    "\n",
    "data = (TabConvList.from_df(df_data, cont_names=cont_names, procs=procs,\n",
    "                           path=path, imgs=[ID],suffix='.png')\n",
    "        .split_from_df(col=[valid_idx])\n",
    "        .label_from_df(cols=CLASS, label_cls=CategoryList)\n",
    "        .transform(tfms, size=imsize, resize_method=ResizeMethod.SQUISH,padding_mode='zeros')\n",
    "        .databunch(device=torch.device('cuda:'+cuda_num), bs=bs, collate_fn=my_collate))\n",
    "\n",
    "data.show_batch(rows=9, figsize=(9,9))"
   ]
  },
  {
   "cell_type": "markdown",
   "metadata": {},
   "source": [
    "**Initialize TabConvModel**"
   ]
  },
  {
   "cell_type": "code",
   "execution_count": null,
   "metadata": {},
   "outputs": [],
   "source": [
    "tab_out_sz = 4\n",
    "conv_out_sz = 4\n",
    "ps = 0.25\n",
    "wd = 0.001\n",
    "\n",
    "loss_func = CrossEntropyFlat()\n",
    "\n",
    "tab_learn = tabular_learner(tab_data, metrics=[accuracy,KappaScore(weights='quadratic')], layers=[tab_out_sz])\n",
    "\n",
    "img_learn = cnn_learner(img_data, models.resnet50, pretrained=True, metrics=[accuracy,KappaScore(weights='quadratic')])\n",
    "\n",
    "learn = fuse_models(data, tab_learn, img_learn, n_lin_tab=tab_out_sz, n_lin_conv=conv_out_sz, ps=ps, \n",
    "                    wd=wd, metrics=[accuracy,KappaScore(weights='quadratic')], loss_func=loss_func)\n",
    "\n",
    "learn.model_dir = \"/media/df3-moran/Pediatric_PFT/MetaData_Project/Models/Final_Models_AgeOnly/\""
   ]
  },
  {
   "cell_type": "code",
   "execution_count": null,
   "metadata": {},
   "outputs": [],
   "source": [
    "print(learn.summary())"
   ]
  },
  {
   "cell_type": "markdown",
   "metadata": {},
   "source": [
    "**Training**"
   ]
  },
  {
   "cell_type": "code",
   "execution_count": null,
   "metadata": {},
   "outputs": [],
   "source": [
    "lr_find(learn)\n",
    "learn.recorder.plot(suggestion=True)"
   ]
  },
  {
   "cell_type": "code",
   "execution_count": null,
   "metadata": {},
   "outputs": [],
   "source": [
    "lr = 1e-2\n",
    "epochs = 50\n",
    "\n",
    "learn.fit_one_cycle(epochs, max_lr=slice(lr/3,lr), callbacks=[callbacks.SaveModelCallback(learn, every='improvement', monitor='accuracy',name='best')]) "
   ]
  },
  {
   "cell_type": "code",
   "execution_count": null,
   "metadata": {},
   "outputs": [],
   "source": [
    "lr = 1e-3\n",
    "epochs = 10\n",
    "\n",
    "learn.fit_one_cycle(epochs, max_lr=slice(lr/3,lr), callbacks=[callbacks.SaveModelCallback(learn, every='improvement', monitor='accuracy',name='best')])"
   ]
  },
  {
   "cell_type": "markdown",
   "metadata": {},
   "source": [
    "Save & Load trained model"
   ]
  },
  {
   "cell_type": "code",
   "execution_count": null,
   "metadata": {},
   "outputs": [],
   "source": [
    "# learn.save(\"PFT_classifier_AgeOnly_NewArch_\"+valid_idx)"
   ]
  },
  {
   "cell_type": "code",
   "execution_count": null,
   "metadata": {},
   "outputs": [],
   "source": [
    "# learn = learn.load(\"PFT_classifier_AgeOnly_NewArch_\" + valid_idx)\n",
    "learn = learn.load(\"PFT_best_classifier_MetaData_AgeOnly_\" + valid_idx)"
   ]
  },
  {
   "cell_type": "markdown",
   "metadata": {},
   "source": [
    "**View Results on Validation Set**"
   ]
  },
  {
   "cell_type": "code",
   "execution_count": null,
   "metadata": {},
   "outputs": [],
   "source": [
    "interp = ClassificationInterpretation.from_learner(learn)"
   ]
  },
  {
   "cell_type": "code",
   "execution_count": null,
   "metadata": {},
   "outputs": [],
   "source": [
    "interp.plot_confusion_matrix(figsize=(6,6), dpi=60)"
   ]
  },
  {
   "cell_type": "code",
   "execution_count": null,
   "metadata": {},
   "outputs": [],
   "source": [
    "interp.most_confused(min_val=2)\n",
    "losses,idxs = interp.top_losses(9)"
   ]
  },
  {
   "cell_type": "code",
   "execution_count": null,
   "metadata": {},
   "outputs": [],
   "source": [
    "preds, true_labels = learn.get_preds()\n",
    "predicted_labels = torch.argmax(preds, dim=1)\n",
    "classification_report(true_labels, predicted_labels, output_dict=True)"
   ]
  },
  {
   "cell_type": "markdown",
   "metadata": {},
   "source": [
    "**Test Inference**"
   ]
  },
  {
   "cell_type": "code",
   "execution_count": null,
   "metadata": {},
   "outputs": [],
   "source": [
    "test_path = \"/media/df3-moran/Omri/Pediatric_Data_Set_New_256_noaug/3ch_data/diff test\"\n",
    "test_csv = \"test_images.csv\""
   ]
  },
  {
   "cell_type": "code",
   "execution_count": null,
   "metadata": {},
   "outputs": [],
   "source": [
    "true_labels, predicted_labels = predict_test(test_path, test_csv, learn, majority_of_votes=False, show_preds=False)\n",
    "\n",
    "# calculate metrics: recall, presicion, f_score\n",
    "classification_report(true_labels, predicted_labels, output_dict=True)"
   ]
  },
  {
   "cell_type": "code",
   "execution_count": null,
   "metadata": {},
   "outputs": [],
   "source": [
    "true_labels, predicted_labels = predict_test(test_path, test_csv, learn, majority_of_votes=True)"
   ]
  },
  {
   "cell_type": "code",
   "execution_count": null,
   "metadata": {},
   "outputs": [],
   "source": [
    "show_test_results(test_path, test_csv, learn, 13, 29)"
   ]
  }
 ],
 "metadata": {
  "kernelspec": {
   "display_name": "Python 3",
   "language": "python",
   "name": "python3"
  },
  "language_info": {
   "codemirror_mode": {
    "name": "ipython",
    "version": 3
   },
   "file_extension": ".py",
   "mimetype": "text/x-python",
   "name": "python",
   "nbconvert_exporter": "python",
   "pygments_lexer": "ipython3",
   "version": "3.6.9"
  }
 },
 "nbformat": 4,
 "nbformat_minor": 2
}
