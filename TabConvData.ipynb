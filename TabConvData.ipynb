{
 "cells": [
  {
   "cell_type": "code",
   "execution_count": 5,
   "metadata": {},
   "outputs": [],
   "source": [
    "from fastai.vision import *\n",
    "from fastai.tabular import *\n",
    "import pandas as pd\n",
    "import matplotlib.pyplot as plt\n",
    "import os\n",
    "from sklearn import model_selection\n",
    "\n",
    "from Macros import *"
   ]
  },
  {
   "cell_type": "markdown",
   "metadata": {},
   "source": [
    "# TabConvData Representation"
   ]
  },
  {
   "cell_type": "markdown",
   "metadata": {},
   "source": [
    "**Combined Item contains MRI image and patient metadata**"
   ]
  },
  {
   "cell_type": "code",
   "execution_count": 6,
   "metadata": {},
   "outputs": [],
   "source": [
    "class TabConvItem(TabularLine):\n",
    "    \n",
    "    def __init__(self, conts, classes, col_names, img, pid, orig_age, cats=[]):\n",
    "        super().__init__(cats, conts, classes, col_names)\n",
    "        self.img = img\n",
    "        self.pid = pid\n",
    "        self.orig_age = orig_age\n",
    "        self.data.append(self.img.data)\n",
    "        self.tab_data, self.img_data = self.data[0:1], self.data[2:]\n",
    "        self.obj = self.data\n",
    "        \n",
    "    def apply_tfms(self, tfms, **kwargs):\n",
    "        self.img = self.img.apply_tfms(tfms, **kwargs)\n",
    "        self.data[-1] = self.img.data\n",
    "        return self\n",
    "    \n",
    "    def __str__(self):\n",
    "        res = super().__str__() + f'Image: {self.img}'\n",
    "        return res\n",
    "    \n",
    "    def show(self, ax:plt.Axes=None, title:Optional[str]=None, figsize:tuple=(3,3), hide_axis:bool=True, **kwargs):\n",
    "        ax = show_image(self.img, ax=ax, hide_axis=hide_axis, figsize=figsize)\n",
    "        if title is not None:\n",
    "            title = title.split('/')\n",
    "            title = [title[0], '\\n', title[1], '\\n', title[2], ' / ', title[3]]\n",
    "            title = \"\".join(title)\n",
    "            ax.set_title(title)"
   ]
  },
  {
   "cell_type": "markdown",
   "metadata": {},
   "source": [
    "**Process tabular data only**"
   ]
  },
  {
   "cell_type": "code",
   "execution_count": 7,
   "metadata": {},
   "outputs": [],
   "source": [
    "class TabConvProcessor(TabularProcessor):\n",
    "    \n",
    "    def __init__(self, ds, procs=[Normalize]):\n",
    "        super().__init__(ds, procs=procs)\n",
    "\n",
    "    def process(self, ds):\n",
    "        super().process(ds)    \n",
    "        ds.preprocessed = True "
   ]
  },
  {
   "cell_type": "markdown",
   "metadata": {},
   "source": [
    "**Data list contains images and patients metadata**"
   ]
  },
  {
   "cell_type": "code",
   "execution_count": 8,
   "metadata": {},
   "outputs": [],
   "source": [
    "class TabConvList(TabularList):\n",
    "    _item_cls = TabConvItem\n",
    "    _bunch = DataBunch\n",
    "    _label_cls = CategoryList\n",
    "    _processor = TabConvProcessor\n",
    "    \n",
    "    def __init__(self, items, cont_names, procs, imgs, convert_mode='RGB', cat_names=None, after_open:Callable=None,  **kwargs):\n",
    "        super().__init__(items, cat_names, cont_names, procs, **kwargs)\n",
    "        self.convert_mode,self.after_open = convert_mode,after_open\n",
    "        self.c , self.sizes = 3 , {}\n",
    "        self.copy_new.extend(['imgs','convert_mode','after_open'])\n",
    "        self.cols = [] if cat_names == None else cat_names.copy()\n",
    "        self.imgs = imgs\n",
    "        if cont_names: self.cols += cont_names.copy()\n",
    "        if imgs: self.cols += imgs.copy()\n",
    "        self.preprocessed = False\n",
    "\n",
    "    def open(self, fn):\n",
    "        \"Open image in `fn`, subclass and overwrite for custom behavior.\"\n",
    "        return open_image(fn, convert_mode=self.convert_mode, after_open=self.after_open)\n",
    "\n",
    "    def get(self, i):\n",
    "        if not self.preprocessed: \n",
    "            return self.inner_df.iloc[i][self.cols] if hasattr(self, 'inner_df') else self.items[i]\n",
    "\n",
    "        conts = [] if self.conts is None else self.conts[i]\n",
    "        pid = self.inner_df['Patient'].iloc[i]\n",
    "        orig_age = self.inner_df[ORIG_AGE].iloc[i]\n",
    "        fn = self.inner_df[self.imgs[0]].iloc[i]\n",
    "        res = self.open(os.path.join(self.path,fn+'.png'))\n",
    "        self.sizes[i] = res.size\n",
    "        return self._item_cls(conts, self.classes, self.col_names, img=res, pid=pid, orig_age=orig_age)\n",
    "\n",
    "\n",
    "    @classmethod\n",
    "    def from_df(cls, df:DataFrame, cont_names:OptStrList=None, procs=None, \n",
    "                path=None, suffix:str='', imgs=None, cols:IntsOrStrs=0, folder:PathOrStr=None, **kwargs):\n",
    "        \n",
    "        return cls(items=range(len(df)), cont_names=cont_names,\n",
    "        procs=procs,\n",
    "        path=path, imgs=imgs, inner_df=df, **kwargs)\n",
    "        \n",
    "    def reconstruct(self, t):\n",
    "        self.inner_df[AGE] = np.round(self.inner_df[AGE], decimals=4)\n",
    "        results = self.inner_df[AGE].isin([np.round(float(t[0]), decimals=4)])\n",
    "        rows = list(results[results==True].index)\n",
    "        orig_age = self.inner_df[ORIG_AGE][rows[0]]\n",
    "        return TabConvItem(t[0], self.classes, self.col_names, t[1], None, np.round(float(orig_age), decimals=2))\n",
    "\n",
    "    def show_xys(self, xs, ys, figsize:Tuple[int,int]=(9,10), **kwargs):\n",
    "        \"Show the `xs` and `ys` on a figure of `figsize`. `kwargs` are passed to the show method.\"\n",
    "        rows = int(math.sqrt(len(xs)))\n",
    "        fig, axs = plt.subplots(rows,rows,figsize=figsize)\n",
    "        x = to_data(xs)\n",
    "        age = [item.orig_age for item in xs]\n",
    "        img = torch.cat([s[2].unsqueeze(0) for s in x], 0)\n",
    "        for i, ax in enumerate(axs.flatten() if rows > 1 else [axs]):\n",
    "            ax.imshow(img[i].permute(1,2,0))\n",
    "            ax.set_title(''.join([str(ys[i]) , ' ; ', str(age[i])]), fontsize=12)\n",
    "            ax.axis('off')\n",
    "        plt.tight_layout()\n",
    "\n",
    "    def show_xyzs(self, xs, ys, zs, figsize:Tuple[int,int]=(9,10), **kwargs):\n",
    "        \"Show the `xs` and `ys` and 'zs' (predictions) on a figure of `figsize`. `kwargs` are passed to the show method.\"\n",
    "        rows = int(math.sqrt(len(xs)))\n",
    "        fig, axs = plt.subplots(rows,rows,figsize=figsize)\n",
    "        x = to_data(xs)\n",
    "        age = [item.orig_age for item in xs]\n",
    "        img = torch.cat([s[2].unsqueeze(0) for s in x], 0)\n",
    "        for i, ax in enumerate(axs.flatten() if rows > 1 else [axs]):\n",
    "            ax.imshow(img[i].permute(1,2,0))\n",
    "            ax.set_title(''.join([str(ys[i]) , ' ; ',\n",
    "            self.trim(age[i]), '\\n', data.classes[int(zs[i])]]), fontsize=12)\n",
    "\n",
    "            ax.axis('off')\n",
    "        plt.tight_layout()"
   ]
  },
  {
   "cell_type": "code",
   "execution_count": 9,
   "metadata": {},
   "outputs": [],
   "source": [
    "def my_collate(batch):\n",
    "    x, y = zip(*batch)\n",
    "    x = to_data(list(x))\n",
    "    age = torch.cat([s[1].unsqueeze(0) for s in x], 0)\n",
    "    img = torch.cat([s[2].unsqueeze(0) for s in x], 0)\n",
    "    y = to_data(y)\n",
    "    y = torch.tensor(y)\n",
    "    return [age, img], y"
   ]
  },
  {
   "cell_type": "markdown",
   "metadata": {},
   "source": [
    "# Preprocessing Data"
   ]
  },
  {
   "cell_type": "markdown",
   "metadata": {},
   "source": [
    "**Set data frame before learning according to given fold index**"
   ]
  },
  {
   "cell_type": "code",
   "execution_count": 10,
   "metadata": {},
   "outputs": [],
   "source": [
    "def filter_df(df, valid_idx):\n",
    "    df_data = df.copy(deep=True)\n",
    "    to_remove = [ind for ind in range(len(df_data)) \n",
    "                 if (df_data.iloc[ind][valid_idx] == 1 and df_data.iloc[ind][\"Orig\"] == 0)]\n",
    "    df_data = df_data.drop(to_remove)\n",
    "    df_data.drop(columns=df_data.columns[0],inplace=True)\n",
    "    return df_data\n",
    "\n",
    "def create_orig_age(df):\n",
    "    df[ORIG_AGE] = df[AGE]\n",
    "    \n",
    "def set_df(df, valid_idx):\n",
    "    new_df = filter_df(df, valid_idx)\n",
    "    create_orig_age(new_df)\n",
    "    return new_df"
   ]
  },
  {
   "cell_type": "markdown",
   "metadata": {},
   "source": [
    "**Split data to train and validation sets - Optional**\n",
    "\n",
    "Helper functions alongisde loading the data, stratifying, splitting into test and validation and a sanity check\n",
    "\n",
    "Training and validation are split by idx - these should be passed to .split_by_idx in the fastai ImageList constructor"
   ]
  },
  {
   "cell_type": "code",
   "execution_count": 11,
   "metadata": {},
   "outputs": [],
   "source": [
    "def get_class_count(df) -> dict:\n",
    "    grp = df.groupby([CLASS])[ID].nunique()\n",
    "    return {key:grp[key] for key in list(grp.keys())}\n",
    "\n",
    "def get_class_proportions(df) -> dict:\n",
    "    class_counts = get_class_count(df)\n",
    "    return {val[0]:round(val[1]/df.shape[0], 4) for val in class_counts.items()}\n",
    "\n",
    "def print_class_distribution(train_idx, val_idx, df):\n",
    "    print(\"Train data class distribution: \", get_class_proportions(df.iloc[train_idx]))\n",
    "    print(\"Test data class distribution: \", get_class_proportions(df.iloc[val_idx]))\n",
    "\n",
    "### create a list of patients with corresponding classes ###    \n",
    "def get_patient_list(df_data):\n",
    "    patients = df_data[PATIENT].unique()\n",
    "    classes = []\n",
    "    for i in range(len(patients)):\n",
    "        tmp = df_data[df_data[PATIENT] == patients[i]]\n",
    "        tmp = tmp[CLASS]\n",
    "        classes.append(tmp.iloc[0])\n",
    "    return patients, classes\n",
    "\n",
    "### split patients to train and validation ###\n",
    "def split_train_val_patient_proportionate(data:pd.DataFrame, pct=0.2, label='label'):\n",
    "    patients, classes = get_patient_list(data)\n",
    "    return model_selection.train_test_split(patients, classes, test_size=pct, stratify=classes)\n",
    "\n",
    "def get_patient_idx(data, patients):\n",
    "    out = []\n",
    "    for p in patients:\n",
    "        out += data.index[data[PATIENT] == p].tolist()\n",
    "    return out \n",
    "        \n",
    "### get indices according to patient split ###\n",
    "def get_split_idx(data,x_train_patients, x_val_patients):\n",
    "    return get_patient_idx(data, x_train_patients), get_patient_idx(data, x_val_patients)\n",
    "    \n",
    "### final split function ###\n",
    "def split_train_val(data:pd.DataFrame, pct=0.2, label='label'):\n",
    "    x_train_patients, x_val_patients, y_train_patients, y_val_patients = split_train_val_patient_proportionate(data, label=CLASS)\n",
    "    return get_split_idx(data, x_train_patients, x_val_patients)"
   ]
  },
  {
   "cell_type": "markdown",
   "metadata": {},
   "source": [
    "# Show Data"
   ]
  },
  {
   "cell_type": "markdown",
   "metadata": {},
   "source": [
    "**Plot Augmented MetaData histogram**"
   ]
  },
  {
   "cell_type": "code",
   "execution_count": null,
   "metadata": {},
   "outputs": [],
   "source": [
    "def plot_age_histogram(df):\n",
    "    for label in df[CLASS].unique():\n",
    "        plt.hist(df[AGE].loc[df[CLASS] == label],bins=20,label=label,density=True, alpha=0.5)\n",
    "    plt.legend(loc='upper right')\n",
    "    plt.title('Age distribution in subject groups')\n",
    "    plt.xlabel('Age (Months)')\n",
    "\n",
    "    plt.show()"
   ]
  }
 ],
 "metadata": {
  "kernelspec": {
   "display_name": "Python 3",
   "language": "python",
   "name": "python3"
  },
  "language_info": {
   "codemirror_mode": {
    "name": "ipython",
    "version": 3
   },
   "file_extension": ".py",
   "mimetype": "text/x-python",
   "name": "python",
   "nbconvert_exporter": "python",
   "pygments_lexer": "ipython3",
   "version": "3.6.9"
  }
 },
 "nbformat": 4,
 "nbformat_minor": 2
}
